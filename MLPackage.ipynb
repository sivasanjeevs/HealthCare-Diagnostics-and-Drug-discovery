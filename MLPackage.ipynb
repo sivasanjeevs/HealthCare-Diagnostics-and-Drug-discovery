{
  "cells": [
    {
      "cell_type": "markdown",
      "metadata": {
        "id": "view-in-github",
        "colab_type": "text"
      },
      "source": [
        "<a href=\"https://colab.research.google.com/github/sivasanjeevs/HealthCare-Diagnostics-and-Drug-discovery/blob/main/MLPackage.ipynb\" target=\"_parent\"><img src=\"https://colab.research.google.com/assets/colab-badge.svg\" alt=\"Open In Colab\"/></a>"
      ]
    },
    {
      "cell_type": "code",
      "source": [
        "from google.colab import drive\n",
        "drive.mount('/content/drive')"
      ],
      "metadata": {
        "colab": {
          "base_uri": "https://localhost:8080/"
        },
        "id": "wZsrtJgKs0IV",
        "outputId": "7d0a1331-b769-4ff0-a38b-b169da2cfaa0"
      },
      "execution_count": null,
      "outputs": [
        {
          "output_type": "stream",
          "name": "stdout",
          "text": [
            "Drive already mounted at /content/drive; to attempt to forcibly remount, call drive.mount(\"/content/drive\", force_remount=True).\n"
          ]
        }
      ]
    },
    {
      "cell_type": "code",
      "execution_count": null,
      "metadata": {
        "colab": {
          "base_uri": "https://localhost:8080/"
        },
        "id": "SUo5QWlrQb2s",
        "outputId": "af10cc16-ea0b-4781-8057-013acbf6efac"
      },
      "outputs": [
        {
          "output_type": "stream",
          "name": "stdout",
          "text": [
            "\u001b[2K     \u001b[90m━━━━━━━━━━━━━━━━━━━━━━━━━━━━━━━━━━━━━━━━\u001b[0m \u001b[32m41.9/41.9 kB\u001b[0m \u001b[31m1.7 MB/s\u001b[0m eta \u001b[36m0:00:00\u001b[0m\n",
            "\u001b[2K   \u001b[90m━━━━━━━━━━━━━━━━━━━━━━━━━━━━━━━━━━━━━━━━\u001b[0m \u001b[32m8.7/8.7 MB\u001b[0m \u001b[31m44.6 MB/s\u001b[0m eta \u001b[36m0:00:00\u001b[0m\n",
            "\u001b[2K   \u001b[90m━━━━━━━━━━━━━━━━━━━━━━━━━━━━━━━━━━━━━━━━\u001b[0m \u001b[32m6.9/6.9 MB\u001b[0m \u001b[31m68.7 MB/s\u001b[0m eta \u001b[36m0:00:00\u001b[0m\n",
            "\u001b[2K   \u001b[90m━━━━━━━━━━━━━━━━━━━━━━━━━━━━━━━━━━━━━━━━\u001b[0m \u001b[32m79.3/79.3 kB\u001b[0m \u001b[31m4.9 MB/s\u001b[0m eta \u001b[36m0:00:00\u001b[0m\n",
            "\u001b[?25h"
          ]
        }
      ],
      "source": [
        "!pip install -q streamlit"
      ]
    },
    {
      "cell_type": "code",
      "execution_count": null,
      "metadata": {
        "colab": {
          "base_uri": "https://localhost:8080/"
        },
        "id": "HS4uiZoSiQir",
        "outputId": "7e01dce1-d723-45a2-af10-bfbd0a427806"
      },
      "outputs": [
        {
          "output_type": "stream",
          "name": "stdout",
          "text": [
            "Password/Enpoint IP for localtunnel is: 34.138.8.53\n"
          ]
        }
      ],
      "source": [
        "import urllib\n",
        "print(\"Password/Enpoint IP for localtunnel is:\",urllib.request.urlopen('https://ipv4.icanhazip.com').read().decode('utf8').strip(\"\\n\"))"
      ]
    },
    {
      "cell_type": "code",
      "execution_count": null,
      "metadata": {
        "colab": {
          "base_uri": "https://localhost:8080/"
        },
        "id": "mM7rmxStfztv",
        "outputId": "9baada8e-67f1-4548-b476-c1dfed60e363"
      },
      "outputs": [
        {
          "output_type": "stream",
          "name": "stdout",
          "text": [
            "Overwriting app.py\n"
          ]
        }
      ],
      "source": [
        "%%writefile app.py\n",
        "import streamlit as st\n",
        "import numpy\n",
        "import pickle\n",
        "from PIL import Image\n",
        "import cv2\n",
        "import matplotlib.pyplot as plt\n",
        "import pandas\n",
        "\n",
        "class KMeans:\n",
        "    def __init__(self,k):\n",
        "        self.k = k\n",
        "\n",
        "    def assign_clusters(self,pixels, centroids):\n",
        "        labels = numpy.zeros(pixels.shape[0], dtype=int)\n",
        "        for i in range(len(pixels)):\n",
        "            pixel = pixels[i]\n",
        "            distances = []\n",
        "            for centroid in centroids:\n",
        "                distance = numpy.sqrt((pixel - centroid) ** 2)\n",
        "                distances.append(distance)\n",
        "            labels[i] = numpy.argmin(distances)\n",
        "        return labels\n",
        "\n",
        "    def update_centroids(self,pixels, labels, k,centroids):\n",
        "        new_centroids = numpy.zeros((k, 1))\n",
        "        for i in range(k):\n",
        "            cluster_points = pixels[labels == i]\n",
        "            if len(cluster_points) > 0:\n",
        "                new_centroids[i] = numpy.mean(cluster_points)\n",
        "            else:\n",
        "                new_centroids[i] = centroids[i]\n",
        "        return new_centroids\n",
        "\n",
        "    def run(self,image):\n",
        "        k = self.k\n",
        "        image_resized = cv2.resize(image, (256, 256))\n",
        "        pixels = image_resized.reshape(-1, 1).astype(float)\n",
        "        max_iters = 100\n",
        "        tolerance = 1e-4\n",
        "        numpy.random.seed(42)\n",
        "        centroids = pixels[numpy.random.choice(pixels.shape[0], k, replace=False)]\n",
        "\n",
        "        for i in range(max_iters):\n",
        "            labels = self.assign_clusters(pixels, centroids)\n",
        "            new_centroids = self.update_centroids(pixels, labels, k,centroids)\n",
        "            if numpy.max(numpy.abs(new_centroids - centroids)) < tolerance:\n",
        "                break\n",
        "            centroids = new_centroids\n",
        "        seg_image = labels.reshape(image_resized.shape)\n",
        "\n",
        "        white_matter = numpy.zeros(seg_image.shape, dtype=numpy.uint8)\n",
        "        gray_matter = numpy.zeros(seg_image.shape, dtype=numpy.uint8)\n",
        "        csf_image = numpy.zeros(seg_image.shape, dtype=numpy.uint8)\n",
        "\n",
        "        white_matter[seg_image == 0] = 255\n",
        "        gray_matter[seg_image == 1] = 255\n",
        "        csf_image[seg_image == 2] = 255\n",
        "\n",
        "        return image_resized,white_matter, gray_matter, csf_image\n",
        "\n",
        "\n",
        "class DrugEffectiveness:\n",
        "    def __init__(self, data, condition):\n",
        "        self.data = data[data['Condition'] == condition].copy()\n",
        "        self.condition = condition\n",
        "        self.model_trained = False\n",
        "\n",
        "    def prepare_data(self):\n",
        "        self.data['Effective_Binary'] = (self.data['Effective'] > self.data['Effective'].median()).astype(int)\n",
        "        X = self.data[['EaseOfUse', 'Satisfaction']].values\n",
        "        y = self.data['Effective_Binary'].values.reshape(-1, 1)\n",
        "        self.X = numpy.hstack((numpy.ones((X.shape[0], 1)), X))\n",
        "        self.y = y\n",
        "\n",
        "    def sigmoid(self, z):\n",
        "        return 1 / (1 + numpy.exp(-z))\n",
        "\n",
        "    def matrix_multiply(self, A, B):\n",
        "        m, n = A.shape\n",
        "        n_b, p = B.shape\n",
        "        result = numpy.zeros((m, p))\n",
        "        for i in range(m):\n",
        "            for j in range(p):\n",
        "                result[i, j] = sum(A[i, k] * B[k, j] for k in range(n))\n",
        "        return result\n",
        "\n",
        "    def train(self, learning_rate=0.01, max_iters=1000, tolerance=1e-6):\n",
        "        self.weights = numpy.zeros((self.X.shape[1], 1))\n",
        "        for iteration in range(max_iters):\n",
        "            z = self.matrix_multiply(self.X, self.weights)\n",
        "            predictions = numpy.array([[self.sigmoid(z_i[0])] for z_i in z])\n",
        "            error = predictions - self.y\n",
        "            gradient = numpy.zeros(self.weights.shape)\n",
        "            m = self.X.shape[0]\n",
        "            for j in range(self.weights.shape[0]):\n",
        "                gradient[j, 0] = sum(error[i, 0] * self.X[i, j] for i in range(m)) / m\n",
        "            self.weights -= learning_rate * gradient\n",
        "            if sum(abs(g) for g in gradient.flatten()) < tolerance:\n",
        "                print(f\"Convergence reached at iteration {iteration}\")\n",
        "                break\n",
        "        self.model_trained = True\n",
        "\n",
        "    def predict(self, X):\n",
        "        z = self.matrix_multiply(X, self.weights)\n",
        "        return numpy.array([[1 if self.sigmoid(z_i[0]) >= 0.5 else 0] for z_i in z])\n",
        "\n",
        "    def recommend_drug(self):\n",
        "        if not self.model_trained:\n",
        "            print(\"Model not trained. Training now...\")\n",
        "            self.train()\n",
        "        self.data['Prediction'] = self.predict(self.X)\n",
        "        effectiveness = self.data.groupby('Drug')['Prediction'].mean().sort_values(ascending=False)\n",
        "        recommended_drug = effectiveness.idxmax()\n",
        "        return recommended_drug,effectiveness\n",
        "\n",
        "\n",
        "st.set_page_config(layout=\"wide\")\n",
        "def home():\n",
        "    st.title('Health Diagnostics and Drug Discovery')\n",
        "    st.write(\"Choose one of the options\")\n",
        "\n",
        "    if st.button('Disease Prediction'):\n",
        "        st.session_state.page = 'page_1'\n",
        "\n",
        "    if st.button('Drug Effectiveness'):\n",
        "        st.session_state.page = 'page_2'\n",
        "\n",
        "    if st.button('Brain MRI Segmentation'):\n",
        "        st.session_state.page = 'page_3'\n",
        "\n",
        "\n",
        "def page_1():\n",
        "    st.title(\"Disease Prediction\")\n",
        "    valid_strings = ['itching', 'skin_rash', 'nodal_skin_eruptions', 'continuous_sneezing', 'shivering', 'chills', 'joint_pain', 'stomach_pain', 'acidity', 'ulcers_on_tongue', 'muscle_wasting', 'vomiting', 'burning_micturition', 'spotting_ urination', 'fatigue', 'weight_gain', 'anxiety', 'cold_hands_and_feets', 'mood_swings', 'weight_loss', 'restlessness', 'lethargy', 'patches_in_throat', 'irregular_sugar_level', 'cough', 'high_fever', 'sunken_eyes', 'breathlessness', 'sweating', 'dehydration', 'indigestion', 'headache', 'yellowish_skin', 'dark_urine', 'nausea', 'loss_of_appetite', 'pain_behind_the_eyes', 'back_pain', 'constipation', 'abdominal_pain', 'diarrhoea', 'mild_fever', 'yellow_urine', 'yellowing_of_eyes', 'acute_liver_failure', 'fluid_overload', 'swelling_of_stomach', 'swelled_lymph_nodes', 'malaise', 'blurred_and_distorted_vision', 'phlegm', 'throat_irritation', 'redness_of_eyes', 'sinus_pressure', 'runny_nose', 'congestion', 'chest_pain', 'weakness_in_limbs', 'fast_heart_rate', 'pain_during_bowel_movements', 'pain_in_anal_region', 'bloody_stool', 'irritation_in_anus', 'neck_pain', 'dizziness', 'cramps', 'bruising', 'obesity', 'swollen_legs', 'swollen_blood_vessels', 'puffy_face_and_eyes', 'enlarged_thyroid', 'brittle_nails', 'swollen_extremeties', 'excessive_hunger', 'extra_marital_contacts', 'drying_and_tingling_lips', 'slurred_speech', 'knee_pain', 'hip_joint_pain', 'muscle_weakness', 'stiff_neck', 'swelling_joints', 'movement_stiffness', 'spinning_movements', 'loss_of_balance', 'unsteadiness', 'weakness_of_one_body_side', 'loss_of_smell', 'bladder_discomfort', 'foul_smell_of urine', 'continuous_feel_of_urine', 'passage_of_gases', 'internal_itching', 'toxic_look_(typhos)', 'depression', 'irritability', 'muscle_pain', 'altered_sensorium', 'red_spots_over_body', 'belly_pain', 'abnormal_menstruation', 'dischromic _patches', 'watering_from_eyes', 'increased_appetite', 'polyuria', 'family_history', 'mucoid_sputum', 'rusty_sputum', 'lack_of_concentration', 'visual_disturbances', 'receiving_blood_transfusion', 'receiving_unsterile_injections', 'coma', 'stomach_bleeding', 'distention_of_abdomen', 'history_of_alcohol_consumption', 'fluid_overload', 'blood_in_sputum', 'prominent_veins_on_calf', 'palpitations', 'painful_walking', 'pus_filled_pimples', 'blackheads', 'scurring', 'skin_peeling', 'silver_like_dusting', 'small_dents_in_nails', 'inflammatory_nails', 'blister', 'red_sore_around_nose', 'yellow_crust_ooze']\n",
        "    user_input = st.multiselect(\"Enter the symptoms\",valid_strings)\n",
        "\n",
        "    if st.button('Submit'):\n",
        "      st.write(user_input)\n",
        "\n",
        "      prediction=numpy.zeros(len(valid_strings)-1)\n",
        "      for i in user_input:\n",
        "        index=valid_strings.index(i)\n",
        "        prediction[index]=1\n",
        "\n",
        "      with open('/content/drive/MyDrive/ML/Package/model.pkl', 'rb') as f:\n",
        "          model=pickle.load(f)\n",
        "\n",
        "      st.write('Predicted Disease:',model.predict(prediction.reshape(1,-1)))\n",
        "\n",
        "    if st.button('Home'):\n",
        "        st.session_state.page = 'home'\n",
        "\n",
        "def page_2():\n",
        "    st.title(\"Drug Effectiveness\")\n",
        "\n",
        "    valid_strings=['Acute Bacterial Sinusitis', 'adenocarcinoma of pancreas', 'Atopic Dermatitis', 'back pain', 'Bacterial Conjunctivitis', 'Bacterial Urinary Tract Infection', 'biliary calculus', 'chickenpox', 'colorectal cancer', 'depression', 'diverticulitis of gastrointestinal tract', 'edema', 'endometriosis', 'fever', 'fibromyalgia', 'flatulence', 'furunculosis', 'gastroesophageal reflux disease', 'genital herpes simplex', 'gout', 'hemorrhoids', 'herpes zoster', 'hypercholesterolemia', 'hypertension', 'impetigo', 'Infantile Autism', 'Influenza', 'meniere\\'s disease', 'oral candidiasis', 'Pharyngitis due to Streptococcus Pyogenes', 'prevention of cerebrovascular accident', 'pyelonephritis', 'scabies', 'Sleepiness Due To Obstructive Sleep Apnea', 'sore throat', 'vertigo', 'vulvovaginal candidiasis']\n",
        "    user_input = st.selectbox(\"Enter the condition\",valid_strings)\n",
        "    if st.button('Submit'):\n",
        "      st.write(user_input)\n",
        "\n",
        "      data = pandas.read_csv('/content/drive/MyDrive/ML/Package/Drug.csv')\n",
        "      model = DrugEffectiveness(data, user_input)\n",
        "      model.prepare_data()\n",
        "      recommended_drug,effectiveness=model.recommend_drug()\n",
        "\n",
        "      st.write('Recommended Drug:',recommended_drug)\n",
        "      effectiveness.plot(kind='bar', title=f'Effectiveness of Drugs for {user_input}')\n",
        "      plt.xlabel('Drug')\n",
        "      plt.ylabel('Predicted Effectiveness')\n",
        "      st.pyplot(plt)\n",
        "\n",
        "    if st.button('Home'):\n",
        "        st.session_state.page = 'home'\n",
        "\n",
        "def page_3():\n",
        "    st.title('Brain MRI Segmentation')\n",
        "\n",
        "    uploaded_file = st.file_uploader(\"Upload an image\", type=[\"jpg\", \"jpeg\", \"png\"])\n",
        "    if uploaded_file is not None:\n",
        "\n",
        "        image = cv2.imdecode(numpy.frombuffer(uploaded_file.read(),numpy.uint8), cv2.IMREAD_GRAYSCALE)\n",
        "\n",
        "        kmeans = KMeans(k=3)\n",
        "        original_image, white_matter, gray_matter, csf_image = kmeans.run(image)\n",
        "\n",
        "        fig, axs = plt.subplots(1, 4, figsize=(20, 5))\n",
        "\n",
        "        axs[0].imshow(original_image, cmap='gray')\n",
        "        axs[0].set_title(\"Original Image\")\n",
        "        axs[0].axis('off')\n",
        "\n",
        "        axs[1].imshow(white_matter, cmap='gray')\n",
        "        axs[1].set_title(\"White Matter\")\n",
        "        axs[1].axis('off')\n",
        "\n",
        "        axs[2].imshow(gray_matter, cmap='gray')\n",
        "        axs[2].set_title(\"Gray Matter\")\n",
        "        axs[2].axis('off')\n",
        "\n",
        "        axs[3].imshow(csf_image, cmap='gray')\n",
        "        axs[3].set_title(\"Cerebrospinal Fluid (CSF)\")\n",
        "        axs[3].axis('off')\n",
        "\n",
        "        st.pyplot(fig)\n",
        "\n",
        "    if st.button('Home'):\n",
        "        st.session_state.page = 'home'\n",
        "\n",
        "\n",
        "if 'page' not in st.session_state:\n",
        "    st.session_state.page = 'home'\n",
        "\n",
        "if st.session_state.page == 'home':\n",
        "    home()\n",
        "elif st.session_state.page == 'page_1':\n",
        "    page_1()\n",
        "elif st.session_state.page == 'page_2':\n",
        "    page_2()\n",
        "elif st.session_state.page == 'page_3':\n",
        "    page_3()"
      ]
    },
    {
      "cell_type": "code",
      "execution_count": null,
      "metadata": {
        "colab": {
          "base_uri": "https://localhost:8080/"
        },
        "collapsed": true,
        "id": "nMARhZrng8tj",
        "outputId": "c6be1549-0395-40eb-9709-ef691ec6ef02"
      },
      "outputs": [
        {
          "output_type": "stream",
          "name": "stdout",
          "text": [
            "\u001b[K\u001b[?25h\n",
            "up to date, audited 23 packages in 579ms\n",
            "\n",
            "3 packages are looking for funding\n",
            "  run `npm fund` for details\n",
            "\n",
            "2 \u001b[33m\u001b[1mmoderate\u001b[22m\u001b[39m severity vulnerabilities\n",
            "\n",
            "To address all issues (including breaking changes), run:\n",
            "  npm audit fix --force\n",
            "\n",
            "Run `npm audit` for details.\n"
          ]
        }
      ],
      "source": [
        "!npm install localtunnel"
      ]
    },
    {
      "cell_type": "code",
      "execution_count": null,
      "metadata": {
        "id": "AIE40C9ahAQy"
      },
      "outputs": [],
      "source": [
        "!streamlit run app.py &>/content/logs.txt &"
      ]
    },
    {
      "cell_type": "code",
      "execution_count": null,
      "metadata": {
        "colab": {
          "base_uri": "https://localhost:8080/"
        },
        "id": "oSc9IV76hDXL",
        "outputId": "14ab48a9-6424-4fe9-c368-8288eb7d650e"
      },
      "outputs": [
        {
          "output_type": "stream",
          "name": "stdout",
          "text": [
            "34.138.8.53\n",
            "your url is: https://bitter-carrots-vanish.loca.lt\n"
          ]
        }
      ],
      "source": [
        "!npx localtunnel --port 8501 & curl ipv4.icanhazip.com"
      ]
    }
  ],
  "metadata": {
    "colab": {
      "provenance": [],
      "include_colab_link": true
    },
    "kernelspec": {
      "display_name": "Python 3",
      "name": "python3"
    },
    "language_info": {
      "name": "python"
    }
  },
  "nbformat": 4,
  "nbformat_minor": 0
}